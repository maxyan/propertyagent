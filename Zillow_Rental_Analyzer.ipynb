{
 "cells": [
  {
   "cell_type": "code",
   "execution_count": 29,
   "metadata": {
    "collapsed": true
   },
   "outputs": [],
   "source": [
    "import pandas as pd\n",
    "import numpy as np\n",
    "%matplotlib inline"
   ]
  },
  {
   "cell_type": "markdown",
   "metadata": {},
   "source": [
    "### Get the Data from Zillow\n",
    "This is a very preliminary research. I just had a look and play with the data available on Zillow. Hopefully will be useful for you and hopefully should at least provide some pointers for cities to target. \n",
    "\n",
    "**The Approach**\n",
    "1. Get the latest median price of all cities, type = \"Single Family Home\" (note there is suburb level data but decided for simplicity to start with)\n",
    "2. Get the latest median rent of all cities, type = \"Single Family Home\" (note for both items 1 and 2, there are other types of properties)\n",
    "3. Match rent to price on location (i.e. Region-State pair)\n",
    "4. Compute the gross yield (i.e. median_monthly_rent * 12 / median_price)\n",
    "5. Select top cities (i.e. biggest cities in SizeRank) and sort by gross yield.\n",
    "\n",
    "**A few interesting pages**\n",
    "* A nice summary of different cities: http://www.zillow.com/research/local-market-reports/\n",
    "* All the data: http://www.zillow.com/research/data/#rental-data\n",
    "* A page on Zillow rent index: http://www.zillow.com/research/zillow-rent-index-methodology-2393/\n",
    "\n",
    "**Remarks**\n",
    "* Using median is a pretty simple yet rough statistical measure\n",
    "* Only looked at single family home"
   ]
  },
  {
   "cell_type": "code",
   "execution_count": 1,
   "metadata": {
    "collapsed": false
   },
   "outputs": [
    {
     "name": "stdout",
     "output_type": "stream",
     "text": [
      "--2015-11-23 22:12:02--  http://files.zillowstatic.com/research/public/City/City_Zhvi_SingleFamilyResidence.csv\n",
      "Resolving files.zillowstatic.com (files.zillowstatic.com)... 192.211.12.34\n",
      "Connecting to files.zillowstatic.com (files.zillowstatic.com)|192.211.12.34|:80... connected.\n",
      "HTTP request sent, awaiting response... 200 OK\n",
      "Length: 17157048 (16M) [text/csv]\n",
      "Saving to: 'City_Zhvi_SingleFamilyResidence.csv’\n",
      "\n",
      "City_Zhvi_SingleFam 100%[=====================>]  16.36M   247KB/s   in 2m 13s \n",
      "\n",
      "2015-11-23 22:14:16 (126 KB/s) - 'City_Zhvi_SingleFamilyResidence.csv’ saved [17157048/17157048]\n",
      "\n"
     ]
    }
   ],
   "source": [
    "!wget http://files.zillowstatic.com/research/public/City/City_Zhvi_SingleFamilyResidence.csv"
   ]
  },
  {
   "cell_type": "code",
   "execution_count": 3,
   "metadata": {
    "collapsed": false
   },
   "outputs": [
    {
     "name": "stdout",
     "output_type": "stream",
     "text": [
      "--2015-11-23 22:14:27--  http://files.zillowstatic.com/research/public/City/City_MedianRentalPrice_Sfr.csv\n",
      "Resolving files.zillowstatic.com (files.zillowstatic.com)... 192.211.12.34\n",
      "Connecting to files.zillowstatic.com (files.zillowstatic.com)|192.211.12.34|:80... connected.\n",
      "HTTP request sent, awaiting response... 200 OK\n",
      "Length: 293769 (287K) [text/csv]\n",
      "Saving to: 'City_MedianRentalPrice_Sfr.csv’\n",
      "\n",
      "City_MedianRentalPr 100%[=====================>] 286.88K   151KB/s   in 1.9s   \n",
      "\n",
      "2015-11-23 22:14:29 (151 KB/s) - 'City_MedianRentalPrice_Sfr.csv’ saved [293769/293769]\n",
      "\n"
     ]
    }
   ],
   "source": [
    "!wget http://files.zillowstatic.com/research/public/City/City_MedianRentalPrice_Sfr.csv"
   ]
  },
  {
   "cell_type": "code",
   "execution_count": 39,
   "metadata": {
    "collapsed": false
   },
   "outputs": [
    {
     "data": {
      "text/html": [
       "<div>\n",
       "<table border=\"1\" class=\"dataframe\">\n",
       "  <thead>\n",
       "    <tr style=\"text-align: right;\">\n",
       "      <th></th>\n",
       "      <th>RegionName</th>\n",
       "      <th>State</th>\n",
       "      <th>Metro</th>\n",
       "      <th>CountyName</th>\n",
       "      <th>SizeRank</th>\n",
       "      <th>2015-10</th>\n",
       "      <th>location</th>\n",
       "    </tr>\n",
       "  </thead>\n",
       "  <tbody>\n",
       "    <tr>\n",
       "      <th>0</th>\n",
       "      <td>New York</td>\n",
       "      <td>NY</td>\n",
       "      <td>New York</td>\n",
       "      <td>Queens</td>\n",
       "      <td>1</td>\n",
       "      <td>2695</td>\n",
       "      <td>New York-NY</td>\n",
       "    </tr>\n",
       "    <tr>\n",
       "      <th>1</th>\n",
       "      <td>Los Angeles</td>\n",
       "      <td>CA</td>\n",
       "      <td>Los Angeles-Long Beach-Anaheim, CA</td>\n",
       "      <td>Los Angeles</td>\n",
       "      <td>2</td>\n",
       "      <td>3795</td>\n",
       "      <td>Los Angeles-CA</td>\n",
       "    </tr>\n",
       "    <tr>\n",
       "      <th>2</th>\n",
       "      <td>Chicago</td>\n",
       "      <td>IL</td>\n",
       "      <td>Chicago</td>\n",
       "      <td>Cook</td>\n",
       "      <td>3</td>\n",
       "      <td>1595</td>\n",
       "      <td>Chicago-IL</td>\n",
       "    </tr>\n",
       "    <tr>\n",
       "      <th>3</th>\n",
       "      <td>Houston</td>\n",
       "      <td>TX</td>\n",
       "      <td>Houston</td>\n",
       "      <td>Harris</td>\n",
       "      <td>4</td>\n",
       "      <td>1600</td>\n",
       "      <td>Houston-TX</td>\n",
       "    </tr>\n",
       "    <tr>\n",
       "      <th>4</th>\n",
       "      <td>Philadelphia</td>\n",
       "      <td>PA</td>\n",
       "      <td>Philadelphia</td>\n",
       "      <td>Philadelphia</td>\n",
       "      <td>5</td>\n",
       "      <td>1400</td>\n",
       "      <td>Philadelphia-PA</td>\n",
       "    </tr>\n",
       "  </tbody>\n",
       "</table>\n",
       "</div>"
      ],
      "text/plain": [
       "     RegionName State                               Metro    CountyName  \\\n",
       "0      New York    NY                            New York        Queens   \n",
       "1   Los Angeles    CA  Los Angeles-Long Beach-Anaheim, CA   Los Angeles   \n",
       "2       Chicago    IL                             Chicago          Cook   \n",
       "3       Houston    TX                             Houston        Harris   \n",
       "4  Philadelphia    PA                        Philadelphia  Philadelphia   \n",
       "\n",
       "   SizeRank  2015-10         location  \n",
       "0         1     2695      New York-NY  \n",
       "1         2     3795   Los Angeles-CA  \n",
       "2         3     1595       Chicago-IL  \n",
       "3         4     1600       Houston-TX  \n",
       "4         5     1400  Philadelphia-PA  "
      ]
     },
     "execution_count": 39,
     "metadata": {},
     "output_type": "execute_result"
    }
   ],
   "source": [
    "median_rental = pd.read_csv('City_MedianRentalPrice_Sfr.csv')\n",
    "median_rental = median_rental[['RegionName', 'State', 'Metro', 'CountyName', 'SizeRank', '2015-10']]\n",
    "median_rental['location'] = median_rental.RegionName.values + '-' + median_rental.State.values # myan: make an identifier\n",
    "median_rental.head()"
   ]
  },
  {
   "cell_type": "code",
   "execution_count": 40,
   "metadata": {
    "collapsed": false
   },
   "outputs": [
    {
     "data": {
      "text/html": [
       "<div>\n",
       "<table border=\"1\" class=\"dataframe\">\n",
       "  <thead>\n",
       "    <tr style=\"text-align: right;\">\n",
       "      <th></th>\n",
       "      <th>RegionID</th>\n",
       "      <th>RegionName</th>\n",
       "      <th>State</th>\n",
       "      <th>Metro</th>\n",
       "      <th>CountyName</th>\n",
       "      <th>SizeRank</th>\n",
       "      <th>2015-10</th>\n",
       "      <th>location</th>\n",
       "    </tr>\n",
       "  </thead>\n",
       "  <tbody>\n",
       "    <tr>\n",
       "      <th>0</th>\n",
       "      <td>6181</td>\n",
       "      <td>New York</td>\n",
       "      <td>NY</td>\n",
       "      <td>New York</td>\n",
       "      <td>Queens</td>\n",
       "      <td>1</td>\n",
       "      <td>499500</td>\n",
       "      <td>New York-NY</td>\n",
       "    </tr>\n",
       "    <tr>\n",
       "      <th>1</th>\n",
       "      <td>12447</td>\n",
       "      <td>Los Angeles</td>\n",
       "      <td>CA</td>\n",
       "      <td>Los Angeles-Long Beach-Anaheim, CA</td>\n",
       "      <td>Los Angeles</td>\n",
       "      <td>2</td>\n",
       "      <td>586500</td>\n",
       "      <td>Los Angeles-CA</td>\n",
       "    </tr>\n",
       "    <tr>\n",
       "      <th>2</th>\n",
       "      <td>17426</td>\n",
       "      <td>Chicago</td>\n",
       "      <td>IL</td>\n",
       "      <td>Chicago</td>\n",
       "      <td>Cook</td>\n",
       "      <td>3</td>\n",
       "      <td>176600</td>\n",
       "      <td>Chicago-IL</td>\n",
       "    </tr>\n",
       "    <tr>\n",
       "      <th>3</th>\n",
       "      <td>39051</td>\n",
       "      <td>Houston</td>\n",
       "      <td>TX</td>\n",
       "      <td>Houston</td>\n",
       "      <td>Harris</td>\n",
       "      <td>4</td>\n",
       "      <td>147300</td>\n",
       "      <td>Houston-TX</td>\n",
       "    </tr>\n",
       "    <tr>\n",
       "      <th>4</th>\n",
       "      <td>13271</td>\n",
       "      <td>Philadelphia</td>\n",
       "      <td>PA</td>\n",
       "      <td>Philadelphia</td>\n",
       "      <td>Philadelphia</td>\n",
       "      <td>5</td>\n",
       "      <td>181700</td>\n",
       "      <td>Philadelphia-PA</td>\n",
       "    </tr>\n",
       "  </tbody>\n",
       "</table>\n",
       "</div>"
      ],
      "text/plain": [
       "   RegionID    RegionName State                               Metro  \\\n",
       "0      6181      New York    NY                            New York   \n",
       "1     12447   Los Angeles    CA  Los Angeles-Long Beach-Anaheim, CA   \n",
       "2     17426       Chicago    IL                             Chicago   \n",
       "3     39051       Houston    TX                             Houston   \n",
       "4     13271  Philadelphia    PA                        Philadelphia   \n",
       "\n",
       "     CountyName  SizeRank  2015-10         location  \n",
       "0        Queens         1   499500      New York-NY  \n",
       "1   Los Angeles         2   586500   Los Angeles-CA  \n",
       "2          Cook         3   176600       Chicago-IL  \n",
       "3        Harris         4   147300       Houston-TX  \n",
       "4  Philadelphia         5   181700  Philadelphia-PA  "
      ]
     },
     "execution_count": 40,
     "metadata": {},
     "output_type": "execute_result"
    }
   ],
   "source": [
    "median_price = pd.read_csv('City_Zhvi_SingleFamilyResidence.csv')\n",
    "median_price = median_price[['RegionID', 'RegionName', 'State', 'Metro', 'CountyName', 'SizeRank', '2015-10']]\n",
    "median_price['location'] = median_price.RegionName.values + '-' + median_price.State.values # myan: make an identifier\n",
    "median_price.head()"
   ]
  },
  {
   "cell_type": "markdown",
   "metadata": {},
   "source": [
    "### Merge Median Price with Median Rentals"
   ]
  },
  {
   "cell_type": "code",
   "execution_count": 41,
   "metadata": {
    "collapsed": false
   },
   "outputs": [],
   "source": [
    "price_rental = median_price.merge(median_rental, left_on='location', right_on='location', suffixes=('_price','_rental'))\n",
    "price_rental['gross_yield'] = price_rental['2015-10_rental'] * 12 / price_rental['2015-10_price']"
   ]
  },
  {
   "cell_type": "code",
   "execution_count": 42,
   "metadata": {
    "collapsed": false
   },
   "outputs": [
    {
     "data": {
      "text/plain": [
       "<matplotlib.axes._subplots.AxesSubplot at 0x7f1c1c372bd0>"
      ]
     },
     "execution_count": 42,
     "metadata": {},
     "output_type": "execute_result"
    },
    {
     "data": {
      "image/png": "[encoded data removed]",
      "text/plain": [
       "<matplotlib.figure.Figure at 0x7f1c18a15590>"
      ]
     },
     "metadata": {},
     "output_type": "display_data"
    }
   ],
   "source": [
    "price_rental.plot(x='SizeRank_rental', y='gross_yield', kind='scatter')"
   ]
  },
  {
   "cell_type": "markdown",
   "metadata": {},
   "source": [
    "The chart above suggest something quite interesting:\n",
    "* There is one outlier\n",
    "* There are cities across all sizes that outperform in terms of gross yield\n",
    "* Most interesting is that it allows us to focus on the big cities that offer good yields\n",
    "\n",
    "So let's dig in a bit further"
   ]
  },
  {
   "cell_type": "markdown",
   "metadata": {},
   "source": [
    "### Outliers"
   ]
  },
  {
   "cell_type": "code",
   "execution_count": 43,
   "metadata": {
    "collapsed": false
   },
   "outputs": [
    {
     "data": {
      "text/html": [
       "<div>\n",
       "<table border=\"1\" class=\"dataframe\">\n",
       "  <thead>\n",
       "    <tr style=\"text-align: right;\">\n",
       "      <th></th>\n",
       "      <th>RegionID</th>\n",
       "      <th>RegionName_price</th>\n",
       "      <th>State_price</th>\n",
       "      <th>Metro_price</th>\n",
       "      <th>CountyName_price</th>\n",
       "      <th>SizeRank_price</th>\n",
       "      <th>2015-10_price</th>\n",
       "      <th>location</th>\n",
       "      <th>RegionName_rental</th>\n",
       "      <th>State_rental</th>\n",
       "      <th>Metro_rental</th>\n",
       "      <th>CountyName_rental</th>\n",
       "      <th>SizeRank_rental</th>\n",
       "      <th>2015-10_rental</th>\n",
       "      <th>gross_yield</th>\n",
       "    </tr>\n",
       "  </thead>\n",
       "  <tbody>\n",
       "    <tr>\n",
       "      <th>901</th>\n",
       "      <td>18451</td>\n",
       "      <td>Hampton Bays</td>\n",
       "      <td>NY</td>\n",
       "      <td>New York</td>\n",
       "      <td>Suffolk</td>\n",
       "      <td>4167</td>\n",
       "      <td>446800</td>\n",
       "      <td>Hampton Bays-NY</td>\n",
       "      <td>Hampton Bays</td>\n",
       "      <td>NY</td>\n",
       "      <td>New York</td>\n",
       "      <td>Suffolk</td>\n",
       "      <td>961</td>\n",
       "      <td>25000</td>\n",
       "      <td>0.671441</td>\n",
       "    </tr>\n",
       "  </tbody>\n",
       "</table>\n",
       "</div>"
      ],
      "text/plain": [
       "     RegionID RegionName_price State_price Metro_price CountyName_price  \\\n",
       "901     18451     Hampton Bays          NY    New York          Suffolk   \n",
       "\n",
       "     SizeRank_price  2015-10_price         location RegionName_rental  \\\n",
       "901            4167         446800  Hampton Bays-NY      Hampton Bays   \n",
       "\n",
       "    State_rental Metro_rental CountyName_rental  SizeRank_rental  \\\n",
       "901           NY     New York           Suffolk              961   \n",
       "\n",
       "     2015-10_rental  gross_yield  \n",
       "901           25000     0.671441  "
      ]
     },
     "execution_count": 43,
     "metadata": {},
     "output_type": "execute_result"
    }
   ],
   "source": [
    "price_rental.loc[price_rental.gross_yield > 0.5]"
   ]
  },
  {
   "cell_type": "markdown",
   "metadata": {},
   "source": [
    "The most likely cause for this 70% gross yield is a data entry mistake - someone put in one extra zero. However, given the size of the city, not considering. "
   ]
  },
  {
   "cell_type": "markdown",
   "metadata": {},
   "source": [
    "### Focus on Top 50 Cities in SizeRank\n",
    "We focus on the top 50 cities and order the new results by gross rental yield."
   ]
  },
  {
   "cell_type": "code",
   "execution_count": 46,
   "metadata": {
    "collapsed": false
   },
   "outputs": [
    {
     "data": {
      "text/html": [
       "<div>\n",
       "<table border=\"1\" class=\"dataframe\">\n",
       "  <thead>\n",
       "    <tr style=\"text-align: right;\">\n",
       "      <th></th>\n",
       "      <th>RegionName_price</th>\n",
       "      <th>State_price</th>\n",
       "      <th>SizeRank_price</th>\n",
       "      <th>2015-10_price</th>\n",
       "      <th>2015-10_rental</th>\n",
       "      <th>gross_yield</th>\n",
       "    </tr>\n",
       "  </thead>\n",
       "  <tbody>\n",
       "    <tr>\n",
       "      <th>12</th>\n",
       "      <td>Detroit</td>\n",
       "      <td>MI</td>\n",
       "      <td>13</td>\n",
       "      <td>39300</td>\n",
       "      <td>750</td>\n",
       "      <td>0.229008</td>\n",
       "    </tr>\n",
       "    <tr>\n",
       "      <th>37</th>\n",
       "      <td>Cleveland</td>\n",
       "      <td>OH</td>\n",
       "      <td>40</td>\n",
       "      <td>52000</td>\n",
       "      <td>900</td>\n",
       "      <td>0.207692</td>\n",
       "    </tr>\n",
       "    <tr>\n",
       "      <th>14</th>\n",
       "      <td>Memphis</td>\n",
       "      <td>TN</td>\n",
       "      <td>15</td>\n",
       "      <td>63500</td>\n",
       "      <td>850</td>\n",
       "      <td>0.160630</td>\n",
       "    </tr>\n",
       "    <tr>\n",
       "      <th>19</th>\n",
       "      <td>Baltimore</td>\n",
       "      <td>MD</td>\n",
       "      <td>20</td>\n",
       "      <td>105600</td>\n",
       "      <td>1300</td>\n",
       "      <td>0.147727</td>\n",
       "    </tr>\n",
       "    <tr>\n",
       "      <th>47</th>\n",
       "      <td>Corpus Christi</td>\n",
       "      <td>TX</td>\n",
       "      <td>51</td>\n",
       "      <td>128900</td>\n",
       "      <td>1550</td>\n",
       "      <td>0.144298</td>\n",
       "    </tr>\n",
       "    <tr>\n",
       "      <th>49</th>\n",
       "      <td>Pittsburgh</td>\n",
       "      <td>PA</td>\n",
       "      <td>53</td>\n",
       "      <td>102700</td>\n",
       "      <td>1185</td>\n",
       "      <td>0.138462</td>\n",
       "    </tr>\n",
       "    <tr>\n",
       "      <th>3</th>\n",
       "      <td>Houston</td>\n",
       "      <td>TX</td>\n",
       "      <td>4</td>\n",
       "      <td>147300</td>\n",
       "      <td>1600</td>\n",
       "      <td>0.130346</td>\n",
       "    </tr>\n",
       "    <tr>\n",
       "      <th>8</th>\n",
       "      <td>Dallas</td>\n",
       "      <td>TX</td>\n",
       "      <td>9</td>\n",
       "      <td>130200</td>\n",
       "      <td>1400</td>\n",
       "      <td>0.129032</td>\n",
       "    </tr>\n",
       "    <tr>\n",
       "      <th>23</th>\n",
       "      <td>Milwaukee</td>\n",
       "      <td>WI</td>\n",
       "      <td>24</td>\n",
       "      <td>94100</td>\n",
       "      <td>997</td>\n",
       "      <td>0.127141</td>\n",
       "    </tr>\n",
       "    <tr>\n",
       "      <th>46</th>\n",
       "      <td>Saint Louis</td>\n",
       "      <td>MO</td>\n",
       "      <td>50</td>\n",
       "      <td>92500</td>\n",
       "      <td>975</td>\n",
       "      <td>0.126486</td>\n",
       "    </tr>\n",
       "    <tr>\n",
       "      <th>16</th>\n",
       "      <td>El Paso</td>\n",
       "      <td>TX</td>\n",
       "      <td>17</td>\n",
       "      <td>111700</td>\n",
       "      <td>1100</td>\n",
       "      <td>0.118174</td>\n",
       "    </tr>\n",
       "    <tr>\n",
       "      <th>35</th>\n",
       "      <td>Miami</td>\n",
       "      <td>FL</td>\n",
       "      <td>37</td>\n",
       "      <td>264200</td>\n",
       "      <td>2500</td>\n",
       "      <td>0.113550</td>\n",
       "    </tr>\n",
       "    <tr>\n",
       "      <th>13</th>\n",
       "      <td>Columbus</td>\n",
       "      <td>OH</td>\n",
       "      <td>14</td>\n",
       "      <td>116300</td>\n",
       "      <td>1100</td>\n",
       "      <td>0.113500</td>\n",
       "    </tr>\n",
       "    <tr>\n",
       "      <th>26</th>\n",
       "      <td>Oklahoma City</td>\n",
       "      <td>OK</td>\n",
       "      <td>27</td>\n",
       "      <td>126400</td>\n",
       "      <td>1175</td>\n",
       "      <td>0.111551</td>\n",
       "    </tr>\n",
       "    <tr>\n",
       "      <th>36</th>\n",
       "      <td>Tulsa</td>\n",
       "      <td>OK</td>\n",
       "      <td>39</td>\n",
       "      <td>107300</td>\n",
       "      <td>975</td>\n",
       "      <td>0.109040</td>\n",
       "    </tr>\n",
       "    <tr>\n",
       "      <th>2</th>\n",
       "      <td>Chicago</td>\n",
       "      <td>IL</td>\n",
       "      <td>3</td>\n",
       "      <td>176600</td>\n",
       "      <td>1595</td>\n",
       "      <td>0.108381</td>\n",
       "    </tr>\n",
       "    <tr>\n",
       "      <th>48</th>\n",
       "      <td>Cincinnati</td>\n",
       "      <td>OH</td>\n",
       "      <td>52</td>\n",
       "      <td>107900</td>\n",
       "      <td>950</td>\n",
       "      <td>0.105653</td>\n",
       "    </tr>\n",
       "    <tr>\n",
       "      <th>43</th>\n",
       "      <td>Tampa</td>\n",
       "      <td>FL</td>\n",
       "      <td>46</td>\n",
       "      <td>150900</td>\n",
       "      <td>1250</td>\n",
       "      <td>0.099404</td>\n",
       "    </tr>\n",
       "    <tr>\n",
       "      <th>42</th>\n",
       "      <td>Wichita</td>\n",
       "      <td>KS</td>\n",
       "      <td>45</td>\n",
       "      <td>104600</td>\n",
       "      <td>850</td>\n",
       "      <td>0.097514</td>\n",
       "    </tr>\n",
       "    <tr>\n",
       "      <th>40</th>\n",
       "      <td>Baton Rouge</td>\n",
       "      <td>LA</td>\n",
       "      <td>43</td>\n",
       "      <td>148600</td>\n",
       "      <td>1200</td>\n",
       "      <td>0.096904</td>\n",
       "    </tr>\n",
       "  </tbody>\n",
       "</table>\n",
       "</div>"
      ],
      "text/plain": [
       "   RegionName_price State_price  SizeRank_price  2015-10_price  \\\n",
       "12          Detroit          MI              13          39300   \n",
       "37        Cleveland          OH              40          52000   \n",
       "14          Memphis          TN              15          63500   \n",
       "19        Baltimore          MD              20         105600   \n",
       "47   Corpus Christi          TX              51         128900   \n",
       "49       Pittsburgh          PA              53         102700   \n",
       "3           Houston          TX               4         147300   \n",
       "8            Dallas          TX               9         130200   \n",
       "23        Milwaukee          WI              24          94100   \n",
       "46      Saint Louis          MO              50          92500   \n",
       "16          El Paso          TX              17         111700   \n",
       "35            Miami          FL              37         264200   \n",
       "13         Columbus          OH              14         116300   \n",
       "26    Oklahoma City          OK              27         126400   \n",
       "36            Tulsa          OK              39         107300   \n",
       "2           Chicago          IL               3         176600   \n",
       "48       Cincinnati          OH              52         107900   \n",
       "43            Tampa          FL              46         150900   \n",
       "42          Wichita          KS              45         104600   \n",
       "40      Baton Rouge          LA              43         148600   \n",
       "\n",
       "    2015-10_rental  gross_yield  \n",
       "12             750     0.229008  \n",
       "37             900     0.207692  \n",
       "14             850     0.160630  \n",
       "19            1300     0.147727  \n",
       "47            1550     0.144298  \n",
       "49            1185     0.138462  \n",
       "3             1600     0.130346  \n",
       "8             1400     0.129032  \n",
       "23             997     0.127141  \n",
       "46             975     0.126486  \n",
       "16            1100     0.118174  \n",
       "35            2500     0.113550  \n",
       "13            1100     0.113500  \n",
       "26            1175     0.111551  \n",
       "36             975     0.109040  \n",
       "2             1595     0.108381  \n",
       "48             950     0.105653  \n",
       "43            1250     0.099404  \n",
       "42             850     0.097514  \n",
       "40            1200     0.096904  "
      ]
     },
     "execution_count": 46,
     "metadata": {},
     "output_type": "execute_result"
    }
   ],
   "source": [
    "NUM_TOP_CITIES = 50\n",
    "top_cities_sorted = price_rental.sort('SizeRank_price')[:NUM_TOP_CITIES].copy().sort('gross_yield', ascending=False)\n",
    "top_cities_sorted[['RegionName_price', \n",
    "                   'State_price', \n",
    "                   'SizeRank_price', \n",
    "                   '2015-10_price', \n",
    "                   '2015-10_rental', \n",
    "                   'gross_yield']].head(20)"
   ]
  },
  {
   "cell_type": "markdown",
   "metadata": {},
   "source": [
    "Tentatively, a couple that looks quite interesting:\n",
    "* Cleveland\n",
    "* Memphis\n",
    "* Baltimore\n",
    "* Pittsburgh (too small?)\n",
    "* Dallas\n",
    "* Milwaukee"
   ]
  },
  {
   "cell_type": "code",
   "execution_count": null,
   "metadata": {
    "collapsed": true
   },
   "outputs": [],
   "source": []
  }
 ],
 "metadata": {
  "kernelspec": {
   "display_name": "Python 2",
   "language": "python",
   "name": "python2"
  },
  "language_info": {
   "codemirror_mode": {
    "name": "ipython",
    "version": 2
   },
   "file_extension": ".py",
   "mimetype": "text/x-python",
   "name": "python",
   "nbconvert_exporter": "python",
   "pygments_lexer": "ipython2",
   "version": "2.7.10"
  }
 },
 "nbformat": 4,
 "nbformat_minor": 0
}
